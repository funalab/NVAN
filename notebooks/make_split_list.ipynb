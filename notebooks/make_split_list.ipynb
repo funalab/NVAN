{
 "cells": [
  {
   "cell_type": "code",
   "execution_count": 1,
   "metadata": {},
   "outputs": [],
   "source": [
    "import json\n",
    "import os\n",
    "import random\n",
    "import numpy as np\n",
    "\n",
    "random.seed(0)\n",
    "np.random.seed(0)"
   ]
  },
  {
   "cell_type": "code",
   "execution_count": 2,
   "metadata": {},
   "outputs": [
    {
     "name": "stdout",
     "output_type": "stream",
     "text": [
      "['E03F02Embryo03', 'E03F04Embryo04', 'E03F06Embryo02', 'E03F09Embryo01', 'E03F10Embryo04', 'E03F11Embryo01', 'E03F13Embryo03', 'E04F02Embryo01', 'E04F03Embryo01', 'E04F07Embryo01', 'E04F07Embryo03', 'E04F08Embryo03', 'E04F12Embryo04', 'E04F13Embryo04', 'E05F01Embryo04', 'E05F05Embryo01', 'E05F06Embryo03', 'E05F06Embryo04', 'E05F08Embryo01', 'E05F08Embryo03', 'E05F09Embryo03', 'E05F12Embryo01', 'E05F12Embryo02', 'E05F12Embryo04', 'E05F15Embryo02', 'E06F02Embryo01', 'E06F03Embryo01', 'E06F03Embryo03', 'E06F04Embryo02', 'E06F06Embryo01', 'E06F07Embryo03', 'E06F09Embryo04', 'E06F10Embryo01', 'E06F10Embryo02', 'E06F12Embryo01', 'E06F13Embryo02', 'E06F13Embryo04', 'E06F14Embryo04']\n",
      "['E03F06Embryo03', 'E03F08Embryo01', 'E03F08Embryo03', 'E03F10Embryo03', 'E04F02Embryo02', 'E04F02Embryo03', 'E04F03Embryo02', 'E04F03Embryo03', 'E04F04Embryo02', 'E04F07Embryo02', 'E04F08Embryo02', 'E04F08Embryo04', 'E04F10Embryo03', 'E04F10Embryo04', 'E04F11Embryo03', 'E04F11Embryo04', 'E05F04Embryo04', 'E05F09Embryo01', 'E05F10Embryo01', 'E05F13Embryo04', 'E05F15Embryo04', 'E06F04Embryo03', 'E06F08Embryo03', 'E06F09Embryo02', 'E06F10Embryo03', 'E06F10Embryo04', 'E06F14Embryo02']\n",
      "38 27\n"
     ]
    }
   ],
   "source": [
    "root = '/Users/tokkuman/git-tokkuman/embryo_classification/datasets'\n",
    "with open(os.path.join(root, 'labels', 'born.txt'), 'r') as f:\n",
    "    born_list = [line.rstrip() for line in f]\n",
    "with open(os.path.join(root, 'labels', 'abort.txt'), 'r') as f:\n",
    "    abort_list = [line.rstrip() for line in f]\n",
    "    \n",
    "print(born_list)\n",
    "print(abort_list)\n",
    "print(len(born_list), len(abort_list))"
   ]
  },
  {
   "cell_type": "markdown",
   "metadata": {},
   "source": [
    "# make split list for k-fold cross-validation"
   ]
  },
  {
   "cell_type": "code",
   "execution_count": 3,
   "metadata": {},
   "outputs": [],
   "source": [
    "random.shuffle(born_list)\n",
    "random.shuffle(abort_list)\n",
    "train = 0.6\n",
    "val = 0.2\n",
    "test = 0.2\n",
    "\n",
    "dist = os.path.join(root, 'split_list', 'kfcv', 'test.txt')\n",
    "with open(dist, 'w') as f:\n",
    "    for i in range(20, 27):\n",
    "        f.write('{}\\n'.format(abort_list[i]))\n",
    "    for i in range(30, 38):\n",
    "        f.write('{}\\n'.format(born_list[i]))\n",
    "\n",
    "for v in range(5):\n",
    "    dist = os.path.join(root, 'split_list', 'kfcv', 'set{}'.format(v+1))\n",
    "    os.makedirs(dist, exist_ok=True)\n",
    "    with open(os.path.join(dist, 'validation.txt'), 'w') as f:\n",
    "        for i in range(v*6, (v+1)*6):\n",
    "            f.write('{}\\n'.format(born_list[i]))\n",
    "        for i in range(v*4, (v+1)*4):\n",
    "            f.write('{}\\n'.format(abort_list[i]))\n",
    "\n",
    "    with open(os.path.join(dist, 'train.txt'), 'w') as f:\n",
    "        for i in range(0, v*6):\n",
    "            f.write('{}\\n'.format(born_list[i]))\n",
    "        for i in range(0, v*4):\n",
    "            f.write('{}\\n'.format(abort_list[i]))\n",
    "        for i in range((v+1)*6, 30):\n",
    "            f.write('{}\\n'.format(born_list[i]))\n",
    "        for i in range((v+1)*4, 20):\n",
    "            f.write('{}\\n'.format(abort_list[i]))\n"
   ]
  },
  {
   "cell_type": "markdown",
   "metadata": {},
   "source": [
    "# make split list for monte-carlo cross-validation"
   ]
  },
  {
   "cell_type": "code",
   "execution_count": 4,
   "metadata": {},
   "outputs": [],
   "source": [
    "fold = 15\n",
    "\n",
    "### [ratio]  train : val : test = 6 : 2 : 2\n",
    "### [number] train : val : test = 39 : 12 : 14\n",
    "num_born_train = 23\n",
    "num_born_val = 8\n",
    "num_born_test = 7\n",
    "num_abort_train = 16\n",
    "num_abort_val = 4\n",
    "num_abort_test = 7\n",
    "\n",
    "for v in range(1, fold+1):\n",
    "    random.shuffle(born_list)\n",
    "    random.shuffle(abort_list)\n",
    "    dist = os.path.join(root, 'split_list', 'mccv', 'set{}'.format(v))\n",
    "    os.makedirs(dist, exist_ok=True)\n",
    "\n",
    "    with open(os.path.join(dist, 'test.txt'), 'w') as f:\n",
    "        for i in range(num_born_test):\n",
    "            f.write('{}\\n'.format(born_list[i]))\n",
    "        for i in range(num_abort_test):\n",
    "            f.write('{}\\n'.format(abort_list[i]))\n",
    "\n",
    "    with open(os.path.join(dist, 'train.txt'), 'w') as f:\n",
    "        for i in range(num_born_test, num_born_test + num_born_train):\n",
    "            f.write('{}\\n'.format(born_list[i]))\n",
    "        for i in range(num_abort_test, num_abort_test + num_abort_train):\n",
    "            f.write('{}\\n'.format(abort_list[i]))\n",
    "            \n",
    "    with open(os.path.join(dist, 'validation.txt'), 'w') as f:\n",
    "        for i in range(num_born_test + num_born_train, num_born_test + num_born_train + num_born_val):\n",
    "            f.write('{}\\n'.format(born_list[i]))\n",
    "        for i in range(num_abort_test + num_abort_train, num_abort_test + num_abort_train + num_abort_val):\n",
    "            f.write('{}\\n'.format(abort_list[i]))"
   ]
  }
 ],
 "metadata": {
  "kernelspec": {
   "display_name": "Python 3",
   "language": "python",
   "name": "python3"
  },
  "language_info": {
   "codemirror_mode": {
    "name": "ipython",
    "version": 3
   },
   "file_extension": ".py",
   "mimetype": "text/x-python",
   "name": "python",
   "nbconvert_exporter": "python",
   "pygments_lexer": "ipython3",
   "version": "3.6.3"
  }
 },
 "nbformat": 4,
 "nbformat_minor": 2
}
