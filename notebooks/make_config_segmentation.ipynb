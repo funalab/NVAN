{
 "cells": [
  {
   "cell_type": "code",
   "execution_count": 1,
   "metadata": {},
   "outputs": [],
   "source": [
    "import os\n",
    "import sys"
   ]
  },
  {
   "cell_type": "code",
   "execution_count": 2,
   "metadata": {},
   "outputs": [],
   "source": [
    "path_list = os.listdir('/Users/tokkuman/git-tokkuman/embryo_classification/datasets/input_norm')\n",
    "dist = '/Users/tokkuman/git-tokkuman/embryo_classification/confs/datasets/segmentation'\n",
    "os.makedirs(dist, exist_ok=True)\n",
    "\n",
    "for p in path_list:\n",
    "    with open(os.path.join(dist, 'run-test-{}.sh'.format(p)), 'w') as f:\n",
    "        f.write('#!/bin/sh\\n')\n",
    "        f.write('\\n')\n",
    "        f.write('nohup python -W ignore src/tools/qca_net_emb_cls.py ')\n",
    "        f.write('-i /home/tokuoka/git/embryo_classification/datasets/images/{} '.format(p))\n",
    "        f.write('--scaling_seg ')\n",
    "        f.write('--scaling_det ')\n",
    "        f.write('-g 0 ')\n",
    "        f.write('-o /home/tokuoka/git/embryo_classification/datasets/images_segmentation/{} '.format(p))\n",
    "        f.write('--patchsize_seg 128 ')\n",
    "        f.write('--patchsize_det 128 ')\n",
    "        f.write('--stride_seg 64 ')\n",
    "        f.write('--stride_det 64 ')\n",
    "        f.write('--model_nsn /home/tokuoka/git/QCANet/models/p128/NSN/best_model.npz ')\n",
    "        f.write('--model_ndn /home/tokuoka/git/QCANet/models/p128/NDN/best_model.npz &')"
   ]
  }
 ],
 "metadata": {
  "kernelspec": {
   "display_name": "Python 3",
   "language": "python",
   "name": "python3"
  },
  "language_info": {
   "codemirror_mode": {
    "name": "ipython",
    "version": 3
   },
   "file_extension": ".py",
   "mimetype": "text/x-python",
   "name": "python",
   "nbconvert_exporter": "python",
   "pygments_lexer": "ipython3",
   "version": "3.6.3"
  }
 },
 "nbformat": 4,
 "nbformat_minor": 2
}
