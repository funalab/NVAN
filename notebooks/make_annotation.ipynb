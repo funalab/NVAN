{
 "cells": [
  {
   "cell_type": "code",
   "execution_count": 1,
   "metadata": {},
   "outputs": [],
   "source": [
    "import csv"
   ]
  },
  {
   "cell_type": "code",
   "execution_count": 5,
   "metadata": {},
   "outputs": [],
   "source": [
    "with open('label.csv', 'r') as f:\n",
    "    hoge = csv.reader(f, delimiter=' ')\n",
    "    for i in hoge:\n",
    "        if i[12] == 'Born':\n",
    "            with open('labels/born.txt', 'a') as f:\n",
    "                f.write('E{:0=2}F{:0=2}Embryo{:0=2}\\n'.format(int(i[0]), int(i[4]), int(i[8])))"
   ]
  },
  {
   "cell_type": "code",
   "execution_count": 7,
   "metadata": {},
   "outputs": [],
   "source": [
    "with open('label.csv', 'r') as f:\n",
    "     hoge = csv.reader(f, delimiter=' ')\n",
    "     for i in hoge:\n",
    "         if i[12] == 'Abort':\n",
    "             with open('labels/abort.txt', 'a') as f:\n",
    "                 f.write('E{:0=2}F{:0=2}Embryo{:0=2}\\n'.format(int(i[0]), int(i[4]), int(i[8])))"
   ]
  },
  {
   "cell_type": "code",
   "execution_count": 8,
   "metadata": {},
   "outputs": [],
   "source": [
    "with open('label.csv', 'r') as f:\n",
    "     hoge = csv.reader(f, delimiter=' ')\n",
    "     for i in hoge:\n",
    "         if i[12] == 'No-pups':\n",
    "             with open('labels/no_pups.txt', 'a') as f:\n",
    "                f.write('E{:0=2}F{:0=3}Embryo{:0=2}\\n'.format(int(i[0]), int(i[4]), int(i[8])))"
   ]
  },
  {
   "cell_type": "code",
   "execution_count": null,
   "metadata": {},
   "outputs": [],
   "source": [
    "with open('label.csv', 'r') as f:\n",
    "    hoge = csv.reader(f, delimiter=' ')\n",
    "    for i in hoge:\n",
    "        if i[12] == 'Born':\n",
    "            with open('annotation/born.txt', 'a') as f:\n",
    "                f.write('E{:0=2}/F{:0=3}/Embryo{}\\n'.format(int(i[0]), int(i[4]), int(i[8])))\n",
    "                \n",
    "with open('label.csv', 'r') as f:\n",
    "     hoge = csv.reader(f, delimiter=' ')\n",
    "     for i in hoge:\n",
    "         if i[12] == 'Abort':\n",
    "             with open('annotation/abort.txt', 'a') as f:\n",
    "                 f.write('E{:0=2}/F{:0=3}/Embryo{}\\n'.format(int(i[0]), int(i[4]), int(i[8])))\n",
    "                    \n",
    "with open('label.csv', 'r') as f:\n",
    "     hoge = csv.reader(f, delimiter=' ')\n",
    "     for i in hoge:\n",
    "         if i[12] == 'No-pups':\n",
    "             with open('annotation/no_pups.txt', 'a') as f:\n",
    "                f.write('E{:0=2}/F{:0=3}/Embryo{}\\n'.format(int(i[0]), int(i[4]), int(i[8])))"
   ]
  }
 ],
 "metadata": {
  "kernelspec": {
   "display_name": "Python 3",
   "language": "python",
   "name": "python3"
  },
  "language_info": {
   "codemirror_mode": {
    "name": "ipython",
    "version": 3
   },
   "file_extension": ".py",
   "mimetype": "text/x-python",
   "name": "python",
   "nbconvert_exporter": "python",
   "pygments_lexer": "ipython3",
   "version": "3.6.3"
  }
 },
 "nbformat": 4,
 "nbformat_minor": 2
}
