{
 "cells": [
  {
   "cell_type": "code",
   "execution_count": 3,
   "metadata": {},
   "outputs": [],
   "source": [
    "import csv\n",
    "import os"
   ]
  },
  {
   "cell_type": "code",
   "execution_count": 5,
   "metadata": {},
   "outputs": [],
   "source": [
    "root = '/Users/tokkuman/git-tokkuman/embryo_classification/datasets/labels'\n",
    "with open(os.path.join(root, 'label.csv'), 'r') as f:\n",
    "    tmp = csv.reader(f, delimiter=' ')\n",
    "    for i in tmp:\n",
    "        if i[12] == 'Born':\n",
    "            with open(os.path.join(root, 'born.txt'), 'a') as f:\n",
    "                f.write('E{:0=2}F{:0=2}Embryo{:0=2}\\n'.format(int(i[0]), int(i[4]), int(i[8])))"
   ]
  },
  {
   "cell_type": "code",
   "execution_count": 7,
   "metadata": {},
   "outputs": [],
   "source": [
    "with open(os.path.join(root, 'label.csv'), 'r') as f:\n",
    "     tmp = csv.reader(f, delimiter=' ')\n",
    "     for i in tmp:\n",
    "         if i[12] == 'Abort':\n",
    "             with open(os.path.join(root, 'abort.txt'), 'a') as f:\n",
    "                 f.write('E{:0=2}F{:0=2}Embryo{:0=2}\\n'.format(int(i[0]), int(i[4]), int(i[8])))"
   ]
  },
  {
   "cell_type": "code",
   "execution_count": 10,
   "metadata": {},
   "outputs": [],
   "source": [
    "with open(os.path.join(root, 'label.csv'), 'r') as f:\n",
    "     tmp = csv.reader(f, delimiter=' ')\n",
    "     for i in tmp:\n",
    "         if i[12] == 'No-pups':\n",
    "             with open(os.path.join(root, 'no_pups.txt'), 'a') as f:\n",
    "                f.write('E{:0=2}F{:0=2}Embryo{:0=2}\\n'.format(int(i[0]), int(i[4]), int(i[8])))"
   ]
  },
  {
   "cell_type": "code",
   "execution_count": null,
   "metadata": {},
   "outputs": [],
   "source": [
    "with open('label.csv', 'r') as f:\n",
    "    hoge = csv.reader(f, delimiter=' ')\n",
    "    for i in hoge:\n",
    "        if i[12] == 'Born':\n",
    "            with open('annotation/born.txt', 'a') as f:\n",
    "                f.write('E{:0=2}/F{:0=3}/Embryo{}\\n'.format(int(i[0]), int(i[4]), int(i[8])))\n",
    "                \n",
    "with open('label.csv', 'r') as f:\n",
    "     hoge = csv.reader(f, delimiter=' ')\n",
    "     for i in hoge:\n",
    "         if i[12] == 'Abort':\n",
    "             with open('annotation/abort.txt', 'a') as f:\n",
    "                 f.write('E{:0=2}/F{:0=3}/Embryo{}\\n'.format(int(i[0]), int(i[4]), int(i[8])))\n",
    "                    \n",
    "with open('label.csv', 'r') as f:\n",
    "     hoge = csv.reader(f, delimiter=' ')\n",
    "     for i in hoge:\n",
    "         if i[12] == 'No-pups':\n",
    "             with open('annotation/no_pups.txt', 'a') as f:\n",
    "                f.write('E{:0=2}/F{:0=3}/Embryo{}\\n'.format(int(i[0]), int(i[4]), int(i[8])))"
   ]
  },
  {
   "cell_type": "code",
   "execution_count": null,
   "metadata": {},
   "outputs": [],
   "source": [
    "import shutil\n",
    "import os\n",
    "import csv\n",
    "\n",
    "root = '/home/tokuoka/git/embryo_classification/datasets/labels'\n",
    "dir_name = '/home/tokuoka/git/embryo_classification/datasets/images'\n",
    "target_dir = '/home/tokuoka/datasets/datasets_embryo_cls/images'\n",
    "\n",
    "with open(os.path.join(root, 'label.csv'), 'r') as f:\n",
    "    tmp = csv.reader(f, delimiter=' ')\n",
    "    for i in tmp:\n",
    "        if i[12] == 'Born' or i[12] == 'Abort' or i[12] == 'No-pups':\n",
    "            emb_name = 'E{:0=2}F{:0=2}Embryo{:0=2}'.format(int(i[0]), int(i[4]), int(i[8]))\n",
    "            os.makedirs(os.path.join(dir_name, emb_name), exist_ok=True)\n",
    "            emb_path = 'E{:0=2}/F{:0=3}/Embryo{:0=1}'.format(int(i[0]), int(i[4]), int(i[8]))\n",
    "            img_path = glob(os.path.join(target_dir, emb_path, '*.tif'))\n",
    "            for p in img_path:\n",
    "                shutil.copy(p, os.path.join(dir_name, emb_name, os.path.basename(p)))"
   ]
  }
 ],
 "metadata": {
  "kernelspec": {
   "display_name": "Python 3",
   "language": "python",
   "name": "python3"
  },
  "language_info": {
   "codemirror_mode": {
    "name": "ipython",
    "version": 3
   },
   "file_extension": ".py",
   "mimetype": "text/x-python",
   "name": "python",
   "nbconvert_exporter": "python",
   "pygments_lexer": "ipython3",
   "version": "3.6.3"
  }
 },
 "nbformat": 4,
 "nbformat_minor": 2
}
